{
 "cells": [
  {
   "cell_type": "code",
   "execution_count": 4,
   "metadata": {},
   "outputs": [],
   "source": [
    "### basic F beta calculator, my code\n",
    "def calculate_F_beta(TP, FN, FP, beta):\n",
    "    \n",
    "    # calculating precision an recall\n",
    "    precision = TP/(TP+FP)\n",
    "    recall = TP/(TP+FN)\n",
    "    \n",
    "    # printing precision and recall\n",
    "    print(\"Precision: \" + str(precision))\n",
    "    print(\"Recall: \" + str(recall))\n",
    "    \n",
    "    return (1+beta**2)*(precision*recall)/(beta**2 * precision + recall)"
   ]
  },
  {
   "cell_type": "code",
   "execution_count": 5,
   "metadata": {},
   "outputs": [
    {
     "name": "stdout",
     "output_type": "stream",
     "text": [
      "Precision: 0.1\n",
      "Recall: 0.9\n"
     ]
    },
    {
     "data": {
      "text/plain": [
       "0.6882352941176472"
      ]
     },
     "execution_count": 5,
     "metadata": {},
     "output_type": "execute_result"
    }
   ],
   "source": [
    "### Example 1\n",
    "\n",
    "TP, FN, FP = 90, 10, 810\n",
    "calculate_F_beta(TP, FN, FP, beta=5)"
   ]
  },
  {
   "cell_type": "code",
   "execution_count": 6,
   "metadata": {},
   "outputs": [
    {
     "name": "stdout",
     "output_type": "stream",
     "text": [
      "Precision: 0.9\n",
      "Recall: 0.1\n"
     ]
    },
    {
     "data": {
      "text/plain": [
       "0.10353982300884956"
      ]
     },
     "execution_count": 6,
     "metadata": {},
     "output_type": "execute_result"
    }
   ],
   "source": [
    "### Example 2\n",
    "\n",
    "TP, FN, FP = 90, 810, 10\n",
    "calculate_F_beta(TP, FN, FP, beta=5)"
   ]
  }
 ],
 "metadata": {
  "kernelspec": {
   "display_name": "Python 3 (ipykernel)",
   "language": "python",
   "name": "python3"
  }
 },
 "nbformat": 4,
 "nbformat_minor": 2
}
